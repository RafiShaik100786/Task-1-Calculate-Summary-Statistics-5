{
  "nbformat": 4,
  "nbformat_minor": 0,
  "metadata": {
    "colab": {
      "private_outputs": true,
      "provenance": []
    },
    "kernelspec": {
      "name": "python3",
      "display_name": "Python 3"
    },
    "language_info": {
      "name": "python"
    }
  },
  "cells": [
    {
      "cell_type": "markdown",
      "source": [
        "### **TASK-1 : Calculate Summary Statistics**\n",
        "\n",
        "## Author:Shaik Rafi\n",
        "\n",
        "## Batch:Jun\n",
        "\n",
        "## Domain:Data analytics\n"
      ],
      "metadata": {
        "id": "kdhgd3wcJMls"
      }
    },
    {
      "cell_type": "markdown",
      "source": [
        "In the task 2 we calculate summary statistics(mean, median, mode, standard deviation) for a Titanic dataset."
      ],
      "metadata": {
        "id": "2mh8yCjz_MHH"
      }
    },
    {
      "cell_type": "code",
      "execution_count": null,
      "metadata": {
        "id": "GCDdfiFsrME9"
      },
      "outputs": [],
      "source": [
        "# import data\n",
        "from google.colab import files\n",
        "uploaded = files.upload()\n"
      ]
    },
    {
      "cell_type": "code",
      "source": [
        "# import libries\n",
        "import pandas as pd\n",
        "import numpy as np\n",
        "import io"
      ],
      "metadata": {
        "id": "yECSiDJiuiJX"
      },
      "execution_count": null,
      "outputs": []
    },
    {
      "cell_type": "code",
      "source": [
        "data = pd.read_csv(io.BytesIO(uploaded['test.csv']))\n",
        "data"
      ],
      "metadata": {
        "id": "zj_iHJlP1H73"
      },
      "execution_count": null,
      "outputs": []
    },
    {
      "cell_type": "code",
      "source": [
        "# summry statstics\n",
        "data.describe()"
      ],
      "metadata": {
        "id": "5-vqNO4A3CqX"
      },
      "execution_count": null,
      "outputs": []
    },
    {
      "cell_type": "markdown",
      "source": [
        "# *test table*"
      ],
      "metadata": {
        "id": "jD2sFzyR3auG"
      }
    },
    {
      "cell_type": "code",
      "source": [
        "from google.colab import files\n",
        "uploaded = files.upload()"
      ],
      "metadata": {
        "id": "eELacgqt3e7J"
      },
      "execution_count": null,
      "outputs": []
    },
    {
      "cell_type": "code",
      "source": [
        "data1 = pd.read_csv(io.BytesIO(uploaded['train.csv']))\n",
        "data1"
      ],
      "metadata": {
        "id": "-e2gbhku3ymI"
      },
      "execution_count": null,
      "outputs": []
    },
    {
      "cell_type": "code",
      "source": [
        "# summry statstics\n",
        "data1.describe()"
      ],
      "metadata": {
        "id": "uLN1utkR7iwB"
      },
      "execution_count": null,
      "outputs": []
    },
    {
      "cell_type": "markdown",
      "source": [
        "# **Task 1 is completed**"
      ],
      "metadata": {
        "id": "m-1dPEHs8JG-"
      }
    }
  ]
}